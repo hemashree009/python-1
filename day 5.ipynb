{
 "cells": [
  {
   "cell_type": "markdown",
   "metadata": {},
   "source": [
    "# markdown basics\n",
    "## markdown basics\n",
    "### markdown basics\n",
    "#### markdown basics\n",
    "##### markdown basics\n",
    "###### markdown basics\n",
    "* **point1**\n",
    "* *point2*\n",
    "* ***point3***\n",
    "\n",
    "*Normal text\n",
    " *sublist 1\n",
    " *sublist2\n",
    "\n",
    "\n",
    ">1.point1\n",
    ">2.point2\n",
    "\n",
    "* google site -- [1] http://www.google.com\n",
    "* man site -- [2] http://www.msn.com\n",
    "\n",
    "* []option 1\n",
    "* google site -- [google][1]\n",
    "[1]: http://www.google.com\n"
   ]
  },
  {
   "cell_type": "markdown",
   "metadata": {},
   "source": [
    "## python basics\n",
    "* python version 3.7\n",
    "- function programming\n",
    "- object oriented programming\n",
    "- scripting programming"
   ]
  },
  {
   "cell_type": "code",
   "execution_count": 2,
   "metadata": {},
   "outputs": [
    {
     "name": "stdout",
     "output_type": "stream",
     "text": [
      "hello,gitam\n"
     ]
    }
   ],
   "source": [
    "print(\"hello,gitam\")"
   ]
  },
  {
   "cell_type": "code",
   "execution_count": 3,
   "metadata": {},
   "outputs": [
    {
     "name": "stdout",
     "output_type": "stream",
     "text": [
      "hello,gitam\n",
      "hyderabad\n"
     ]
    }
   ],
   "source": [
    "print(\"hello,gitam\")\n",
    "print(\"hyderabad\")"
   ]
  },
  {
   "cell_type": "code",
   "execution_count": 4,
   "metadata": {},
   "outputs": [
    {
     "name": "stdout",
     "output_type": "stream",
     "text": [
      "hello,gitam |||hyderabad|||python programming\n"
     ]
    }
   ],
   "source": [
    "print(\"hello,gitam\",\"|||\",end =\"\")\n",
    "print(\"hyderabad\",end =\"|||\")\n",
    "print(\"python programming\")"
   ]
  },
  {
   "cell_type": "code",
   "execution_count": null,
   "metadata": {},
   "outputs": [],
   "source": []
  },
  {
   "cell_type": "markdown",
   "metadata": {},
   "source": [
    "# Assignment"
   ]
  },
  {
   "cell_type": "code",
   "execution_count": 7,
   "metadata": {},
   "outputs": [
    {
     "name": "stdout",
     "output_type": "stream",
     "text": [
      "100\n",
      "20 20 20\n",
      "111 222 333\n"
     ]
    }
   ],
   "source": [
    "n1 = 100 \n",
    "a = b = c = 20\n",
    "a1,b1,c1 = 111,222,333\n",
    "print(n1)\n",
    "print(a,b,c)\n",
    "print(a1,b1,c1)\n"
   ]
  },
  {
   "cell_type": "markdown",
   "metadata": {},
   "source": [
    "### Data types and conversions\n",
    "  a = 100;\n",
    "  s1 = \"python\"\n",
    "  s2 = 'p'\n",
    "  f1 = 10,2\n",
    "  print(a,s1,s2,f1)\n",
    "  print(type(a),type(s1),type(s2),type(f1))"
   ]
  },
  {
   "cell_type": "code",
   "execution_count": 9,
   "metadata": {},
   "outputs": [
    {
     "name": "stdout",
     "output_type": "stream",
     "text": [
      "100 python p 10.2\n",
      "<class 'int'> <class 'str'> <class 'str'> <class 'float'>\n"
     ]
    }
   ],
   "source": [
    "a = 100;\n",
    "s1 = \"python\"\n",
    "s2 = 'p'\n",
    "f1 = 10.2\n",
    "print(a,s1,s2,f1)\n",
    "print(type(a),type(s1),type(s2),type(f1))"
   ]
  },
  {
   "cell_type": "markdown",
   "metadata": {},
   "source": [
    "s1 = \"100\"\n",
    "print(type(s1))\n",
    "a = int(s1)\n",
    "print(type(a))\n",
    "f = 1.5\n",
    "a1 = int(f)\n",
    "print(type(a1))\n",
    "print(a1)"
   ]
  },
  {
   "cell_type": "code",
   "execution_count": 1,
   "metadata": {},
   "outputs": [
    {
     "name": "stdout",
     "output_type": "stream",
     "text": [
      "<class 'int'>\n"
     ]
    },
    {
     "ename": "NameError",
     "evalue": "name 's2' is not defined",
     "output_type": "error",
     "traceback": [
      "\u001b[1;31m---------------------------------------------------------------------------\u001b[0m",
      "\u001b[1;31mNameError\u001b[0m                                 Traceback (most recent call last)",
      "\u001b[1;32m<ipython-input-1-4b87552f4332>\u001b[0m in \u001b[0;36m<module>\u001b[1;34m\u001b[0m\n\u001b[0;32m      2\u001b[0m \u001b[0mprint\u001b[0m\u001b[1;33m(\u001b[0m\u001b[0mtype\u001b[0m\u001b[1;33m(\u001b[0m\u001b[0mi\u001b[0m\u001b[1;33m)\u001b[0m\u001b[1;33m)\u001b[0m\u001b[1;33m\u001b[0m\u001b[1;33m\u001b[0m\u001b[0m\n\u001b[0;32m      3\u001b[0m \u001b[0ms1\u001b[0m \u001b[1;33m=\u001b[0m \u001b[0mstr\u001b[0m\u001b[1;33m(\u001b[0m\u001b[0mi\u001b[0m\u001b[1;33m)\u001b[0m\u001b[1;33m\u001b[0m\u001b[1;33m\u001b[0m\u001b[0m\n\u001b[1;32m----> 4\u001b[1;33m \u001b[0mprint\u001b[0m\u001b[1;33m(\u001b[0m\u001b[0mtype\u001b[0m\u001b[1;33m(\u001b[0m\u001b[0ms2\u001b[0m\u001b[1;33m)\u001b[0m\u001b[1;33m)\u001b[0m\u001b[1;33m\u001b[0m\u001b[1;33m\u001b[0m\u001b[0m\n\u001b[0m\u001b[0;32m      5\u001b[0m \u001b[1;33m\u001b[0m\u001b[0m\n",
      "\u001b[1;31mNameError\u001b[0m: name 's2' is not defined"
     ]
    }
   ],
   "source": [
    "i = 100\n",
    "print(type(i))\n",
    "s1 = str(i)\n",
    "print(type(s2))\n",
    "\n"
   ]
  },
  {
   "cell_type": "code",
   "execution_count": 2,
   "metadata": {},
   "outputs": [
    {
     "name": "stdout",
     "output_type": "stream",
     "text": [
      "4\n"
     ]
    }
   ],
   "source": [
    "# A number is given 1234 -\n",
    "# Digit count\n",
    "a1 = 1234\n",
    "print(len(str(a1)))"
   ]
  },
  {
   "cell_type": "markdown",
   "metadata": {},
   "source": [
    "# Reading a value\n",
    "  * input(\"message\") --string"
   ]
  },
  {
   "cell_type": "code",
   "execution_count": 1,
   "metadata": {},
   "outputs": [
    {
     "name": "stdout",
     "output_type": "stream",
     "text": [
      "enter your namevishishta\n",
      "vishishta\n",
      "<class 'str'>\n"
     ]
    }
   ],
   "source": [
    "s1 = input(\"enter your name\")\n",
    "print(s1)\n",
    "print(type(s1))"
   ]
  },
  {
   "cell_type": "code",
   "execution_count": 2,
   "metadata": {},
   "outputs": [
    {
     "name": "stdout",
     "output_type": "stream",
     "text": [
      "enter a number123\n",
      "123 <class 'int'>\n"
     ]
    }
   ],
   "source": [
    "# want a number as a input\n",
    "n1 = int(input(\"enter a number\"))\n",
    "print(n1,type(n1))"
   ]
  },
  {
   "cell_type": "markdown",
   "metadata": {},
   "source": [
    "## operators\n",
    "  * operator is a symbols is used to perform a specific kind of operation "
   ]
  },
  {
   "cell_type": "markdown",
   "metadata": {},
   "source": [
    "## Arithmatic operators\n",
    " - +\n",
    " - -\n",
    " - /\n",
    " - *\n",
    " - %\n",
    " - //\n",
    " - =\n",
    " - **"
   ]
  },
  {
   "cell_type": "code",
   "execution_count": 3,
   "metadata": {},
   "outputs": [
    {
     "name": "stdout",
     "output_type": "stream",
     "text": [
      "1244\n",
      "1224\n",
      "12340\n",
      "123.4\n",
      "123\n",
      "4\n",
      "8187505353567209228244052427776\n"
     ]
    }
   ],
   "source": [
    "n1 = 1234\n",
    "print(n1+10)\n",
    "print(n1-10)\n",
    "print(n1*10)\n",
    "print(n1/10)\n",
    "print(n1//10)\n",
    "print(n1%10)\n",
    "print(n1**10)"
   ]
  },
  {
   "cell_type": "markdown",
   "metadata": {},
   "source": [
    "### Presedence of the Arth operators\n",
    "\n",
    "- parenthesis\n",
    "- power\n",
    "- multiplication\n",
    "- addition\n",
    "\n",
    " ### Left to right"
   ]
  },
  {
   "cell_type": "code",
   "execution_count": 4,
   "metadata": {},
   "outputs": [
    {
     "name": "stdout",
     "output_type": "stream",
     "text": [
      "8.0\n"
     ]
    }
   ],
   "source": [
    "x = 1 + 2 ** 3 / 4 + 5\n",
    "print(x)"
   ]
  },
  {
   "cell_type": "code",
   "execution_count": 5,
   "metadata": {},
   "outputs": [
    {
     "name": "stdout",
     "output_type": "stream",
     "text": [
      "11.0\n"
     ]
    }
   ],
   "source": [
    "x = 1 + 2 ** 3 / 4 * 5\n",
    "print(x)"
   ]
  },
  {
   "cell_type": "markdown",
   "metadata": {},
   "source": [
    "### Relational operators\n",
    "- ==\n",
    "- !=\n",
    "- Greater(>)\n",
    "- Less than(<)\n",
    "- Less than or equals to(<=)\n",
    "- Greater than or equals to(>=)"
   ]
  },
  {
   "cell_type": "code",
   "execution_count": 6,
   "metadata": {},
   "outputs": [
    {
     "name": "stdout",
     "output_type": "stream",
     "text": [
      "False\n"
     ]
    }
   ],
   "source": [
    "x = 10\n",
    "a1 = x > 15\n",
    "print(a1)"
   ]
  },
  {
   "cell_type": "markdown",
   "metadata": {},
   "source": [
    "### Logic operators\n",
    " used to combine more than single condition\n",
    " - and\n",
    " - or\n",
    " - not"
   ]
  },
  {
   "cell_type": "code",
   "execution_count": 8,
   "metadata": {},
   "outputs": [
    {
     "name": "stdout",
     "output_type": "stream",
     "text": [
      "True\n",
      "False\n"
     ]
    }
   ],
   "source": [
    "i = 100\n",
    "a1 = (i > 15)and(i < 800)\n",
    "a2 = (i > 15)and(i > 800)\n",
    "print(a1)\n",
    "print(a2)"
   ]
  },
  {
   "cell_type": "markdown",
   "metadata": {},
   "source": [
    "### Conditional statements\n",
    "- conditional statements\n",
    "- looping statements\n",
    "\n",
    "#### if-else statement\n",
    "\n",
    "**syntax**\n",
    "\n",
    "if Boolean_condition:\n",
    "statements\n",
    "else:\n",
    "statements"
   ]
  },
  {
   "cell_type": "code",
   "execution_count": 14,
   "metadata": {},
   "outputs": [
    {
     "name": "stdout",
     "output_type": "stream",
     "text": [
      "enter a number13\n",
      "odd\n"
     ]
    }
   ],
   "source": [
    "# to check given number is even or odd\n",
    "n = int(input(\"enter a number\"))\n",
    "if n%2 == 0:\n",
    "    print(\"even\")\n",
    "else:\n",
    "    print(\"odd\")"
   ]
  },
  {
   "cell_type": "code",
   "execution_count": 15,
   "metadata": {},
   "outputs": [
    {
     "name": "stdout",
     "output_type": "stream",
     "text": [
      "enter a number10\n",
      "no\n"
     ]
    }
   ],
   "source": [
    "# to check given number is perfectly multiple of 3 and 5\n",
    "n = int(input(\"enter a number\"))\n",
    "if n%3 == 0 and n%5 == 0:\n",
    "    print(\"yes\")\n",
    "else:\n",
    "    print(\"no\")"
   ]
  },
  {
   "cell_type": "code",
   "execution_count": 18,
   "metadata": {},
   "outputs": [
    {
     "name": "stdout",
     "output_type": "stream",
     "text": [
      "enter a number 5\n",
      "positive number\n"
     ]
    }
   ],
   "source": [
    "# test given number is positive,negative or zero\n",
    "n = int(input(\"enter a number\"))\n",
    "if n == 0:\n",
    "    print(\"zero\")\n",
    "elif n>0:\n",
    "        print(\"positive number\")\n",
    "elif n<0:\n",
    "        print(\"negative number\")"
   ]
  },
  {
   "cell_type": "code",
   "execution_count": null,
   "metadata": {},
   "outputs": [],
   "source": []
  }
 ],
 "metadata": {
  "kernelspec": {
   "display_name": "Python 3",
   "language": "python",
   "name": "python3"
  },
  "language_info": {
   "codemirror_mode": {
    "name": "ipython",
    "version": 3
   },
   "file_extension": ".py",
   "mimetype": "text/x-python",
   "name": "python",
   "nbconvert_exporter": "python",
   "pygments_lexer": "ipython3",
   "version": "3.7.3"
  }
 },
 "nbformat": 4,
 "nbformat_minor": 2
}
