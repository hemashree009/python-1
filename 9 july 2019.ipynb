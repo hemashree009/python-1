{
 "cells": [
  {
   "cell_type": "markdown",
   "metadata": {},
   "source": [
    "### Day Objectives\n",
    "- python Data structures\n",
    "   - Lists\n",
    "   - Tuples\n",
    "   - Dictionaries\n",
    "- Basic program sets on Data structures\n",
    "- Advanced problem set\n",
    "- Contact Application(Dictionary Object)\n",
    "\n",
    "### Data structures:\n",
    "\n",
    "- To store,search and sort the data"
   ]
  },
  {
   "cell_type": "markdown",
   "metadata": {},
   "source": [
    "### Python Data Structures\n",
    "### Lists\n",
    "- it's one of the common data structures supports by python, the lists items are seperated by comma operator and enclosed in square brackets.\n",
    "  - Example :\n",
    "       - list 1 = [1,6,2,18,9]\n",
    "       - list 2 = [\"Gitam\",10,12,15,5,\"Hyderabad\"]"
   ]
  },
  {
   "cell_type": "code",
   "execution_count": 4,
   "metadata": {},
   "outputs": [
    {
     "name": "stdout",
     "output_type": "stream",
     "text": [
      "[1, 8, 16, 9, 2]\n",
      "1\n",
      "8\n",
      "2\n",
      "9\n",
      "[8, 16, 9, 2]\n",
      "[8, 16, 9]\n"
     ]
    }
   ],
   "source": [
    "lst = [1,8,16,9,2]\n",
    "print(lst) # Access the entire list\n",
    "print(lst[0]) # Access the first item list\n",
    "print(lst[1]) #Access the second item list\n",
    "print(lst[-1]) # Access the last item list \n",
    "print(lst[-2])\n",
    "print(lst[1:])\n",
    "print(lst[1:4])\n"
   ]
  },
  {
   "cell_type": "code",
   "execution_count": 6,
   "metadata": {},
   "outputs": [
    {
     "name": "stdout",
     "output_type": "stream",
     "text": [
      "['Gitam', 'python', 1989, 2002]\n",
      "['Gitam', 'python', 2019, 2002]\n"
     ]
    }
   ],
   "source": [
    "# update the list item values using index\n",
    "list = [\"Gitam\",'python',1989,2002]\n",
    "print(list)\n",
    "list[2] = 2019\n",
    "print(list)"
   ]
  },
  {
   "cell_type": "code",
   "execution_count": 10,
   "metadata": {},
   "outputs": [
    {
     "name": "stdout",
     "output_type": "stream",
     "text": [
      "['Gitam', 'python', 2019, 2002]\n",
      "['Gitam', 'python', 2002]\n"
     ]
    }
   ],
   "source": [
    "# delete the specific item in the list\n",
    "print(list)\n",
    "del (list[2])\n",
    "print(list)"
   ]
  },
  {
   "cell_type": "code",
   "execution_count": 23,
   "metadata": {},
   "outputs": [
    {
     "name": "stdout",
     "output_type": "stream",
     "text": [
      "5\n",
      "[1, 9, 6, 18, 2, 1, 9, 6, 18, 2]\n",
      "5\n",
      "True\n",
      "False\n",
      "1 9 6 18 2 "
     ]
    }
   ],
   "source": [
    "# Basic list operations\n",
    "list1= [1,9,6,18,2]\n",
    "print(len(list1))\n",
    "print(list1*2)\n",
    "print(len(list1))\n",
    "print(9 in list1)\n",
    "print(15 in list1)\n",
    "for x in range(len(list1)):\n",
    "    print(list1[x],end=' ')"
   ]
  },
  {
   "cell_type": "code",
   "execution_count": 28,
   "metadata": {},
   "outputs": [
    {
     "name": "stdout",
     "output_type": "stream",
     "text": [
      "1\n",
      "18\n",
      "36\n",
      "7\n",
      "13.5\n"
     ]
    }
   ],
   "source": [
    "list1\n",
    "print(min(list1))\n",
    "print(max(list1))\n",
    "print(sum(list1))\n",
    "print(sum(list1)//len(list1))\n",
    "print(sum(list1[1::2])/len(list1[1::2]))"
   ]
  },
  {
   "cell_type": "code",
   "execution_count": 13,
   "metadata": {},
   "outputs": [
    {
     "data": {
      "text/plain": [
       "[45, 23, 24, 16, 9, 8, 1]"
      ]
     },
     "execution_count": 13,
     "metadata": {},
     "output_type": "execute_result"
    }
   ],
   "source": [
    " list1=[1,8,16,9,2]\n",
    "list1.append(24)\n",
    "list1\n",
    "list1.insert(2,56)\n",
    "list1\n",
    "list1.count(18)\n",
    "list1.index(56)\n",
    "list1.sort()\n",
    "list1\n",
    "list1.pop()\n",
    "list1\n",
    "list1.pop(1)\n",
    "list2 = [123,23,45]\n",
    "list1.extend(list2)\n",
    "list1.reverse()\n",
    "list1.remove(123)\n",
    "list1\n"
   ]
  },
  {
   "cell_type": "code",
   "execution_count": 10,
   "metadata": {},
   "outputs": [
    {
     "name": "stdout",
     "output_type": "stream",
     "text": [
      "[3, 2]\n"
     ]
    }
   ],
   "source": [
    "list = [1,9,8,2,6,3]\n",
    "print(list[-1:2:-2])"
   ]
  },
  {
   "cell_type": "code",
   "execution_count": 18,
   "metadata": {},
   "outputs": [
    {
     "data": {
      "text/plain": [
       "6"
      ]
     },
     "execution_count": 18,
     "metadata": {},
     "output_type": "execute_result"
    }
   ],
   "source": [
    "# Function to find the second large items from the list\n",
    "# input : [1,19,6,2,8,18,3]\n",
    "# output : 18\n",
    "def secondLeast(list):\n",
    "    list.sort()\n",
    "    return list[1]\n",
    "def genericLeast(list,n):\n",
    "    list.sort()\n",
    "    return list[n-1]\n",
    "list =[1,19,6,2,8,18,3]\n",
    "genericLeast(list,4)"
   ]
  },
  {
   "cell_type": "code",
   "execution_count": 22,
   "metadata": {},
   "outputs": [
    {
     "name": "stdout",
     "output_type": "stream",
     "text": [
      "1 23 "
     ]
    }
   ],
   "source": [
    "def linearformattedoutput(a):\n",
    "    for i in range(len(a)):\n",
    "        if i == 0 or (i == len(a) -1):\n",
    "            print(a[i],end = \" \")\n",
    "        elif a[i-1]%2 == 0 and a[i+1]% 2 == 0:\n",
    "                    print (a[i],end = \" \") \n",
    "a = [1,5,9,4,10,19,23]\n",
    "linearformattedoutput (a)\n",
    "                    "
   ]
  },
  {
   "cell_type": "code",
   "execution_count": 2,
   "metadata": {},
   "outputs": [
    {
     "name": "stdout",
     "output_type": "stream",
     "text": [
      "1 9 19 22 "
     ]
    }
   ],
   "source": [
    "# Function \n",
    "# input : List\n",
    "# output : Formatted output\n",
    "# Test cases :\n",
    "# [1,6,9,4,16,19,22] -- 1 9 19 22\n",
    "def linearSearch(list):\n",
    "    for x in range(len(list)):\n",
    "        if x == 0 or x == len(list) -1:\n",
    "            print(list[x],end=\" \")\n",
    "        elif list[x-1] % 2 == 0 and list[x+1] % 2 == 0:\n",
    "            print(list[x],end=\" \")\n",
    "            \n",
    "    return\n",
    "list = [1,6,9,4,16,19,22]\n",
    "linearSearch(list) # 1 9 19 22"
   ]
  },
  {
   "cell_type": "markdown",
   "metadata": {},
   "source": [
    "### Number to List\n",
    " - input as number\n",
    " - expected output will be list\n"
   ]
  },
  {
   "cell_type": "code",
   "execution_count": 3,
   "metadata": {},
   "outputs": [
    {
     "data": {
      "text/plain": [
       "[1, 4, 5, 6, 9]"
      ]
     },
     "execution_count": 3,
     "metadata": {},
     "output_type": "execute_result"
    }
   ],
   "source": [
    "# Function for conversion\n",
    "# input -- Number\n",
    "# output -- List\n",
    "# Test cases :-\n",
    "# 14569 -- [1,4,5,6,9]\n",
    "# 1990 -- [1,9,9,0]\n",
    "def numberListConversion(n):\n",
    "    list = []\n",
    "    while n != 0:\n",
    "        r = n % 10\n",
    "        list.append(r)\n",
    "        n = n // 10\n",
    "    list.reverse()\n",
    "    return list\n",
    "numberListConversion(14569)"
   ]
  },
  {
   "cell_type": "code",
   "execution_count": 6,
   "metadata": {},
   "outputs": [
    {
     "data": {
      "text/plain": [
       "2"
      ]
     },
     "execution_count": 6,
     "metadata": {},
     "output_type": "execute_result"
    }
   ],
   "source": [
    "# Function to count the occurances of a charecter in a string\n",
    "# \"python programming\", p -> 2\n",
    "# \"python programming\", m -> 2\n",
    "def countCharOccurances(s,c):\n",
    "    cnt = 0\n",
    "    for ch in s:\n",
    "        if ch == c:\n",
    "            cnt += 1\n",
    "    return cnt\n",
    "def countCharOccurances1(s,c):\n",
    "    return s.count(c)\n",
    "countCharOccurances(\"python programming\",'m')"
   ]
  },
  {
   "cell_type": "markdown",
   "metadata": {},
   "source": [
    "### String to List Conversion\n",
    " - input will be string\n",
    " - Expected output will be list"
   ]
  },
  {
   "cell_type": "code",
   "execution_count": 12,
   "metadata": {},
   "outputs": [
    {
     "data": {
      "text/plain": [
       "[1, 2, 3, 4, 5, 6]"
      ]
     },
     "execution_count": 12,
     "metadata": {},
     "output_type": "execute_result"
    }
   ],
   "source": [
    "# Function to convert the string to list\n",
    "# Test Case\n",
    "# \"1 2 3 4 5 6\" -- [1,2,3,4,5,6]\n",
    "def stringToListConversion(s):\n",
    "    list = s.split()\n",
    "    numberslist = []\n",
    "    for i in list:\n",
    "        numberslist.append(int(i))\n",
    "    return numberslist\n",
    "s = \"1 2 3 4 5 6\"\n",
    "stringToListConversion(s)"
   ]
  },
  {
   "cell_type": "code",
   "execution_count": null,
   "metadata": {},
   "outputs": [],
   "source": []
  }
 ],
 "metadata": {
  "kernelspec": {
   "display_name": "Python 3",
   "language": "python",
   "name": "python3"
  },
  "language_info": {
   "codemirror_mode": {
    "name": "ipython",
    "version": 3
   },
   "file_extension": ".py",
   "mimetype": "text/x-python",
   "name": "python",
   "nbconvert_exporter": "python",
   "pygments_lexer": "ipython3",
   "version": "3.7.3"
  }
 },
 "nbformat": 4,
 "nbformat_minor": 2
}
